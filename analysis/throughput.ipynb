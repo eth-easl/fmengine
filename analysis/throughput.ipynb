{
 "cells": [
  {
   "cell_type": "code",
   "execution_count": null,
   "id": "initial_id",
   "metadata": {
    "collapsed": true
   },
   "outputs": [],
   "source": [
    "import pathlib\n",
    "import pandas as pd\n",
    "from typing import List, Dict, Any, Tuple\n",
    "import matplotlib.pyplot as plt"
   ]
  },
  {
   "cell_type": "code",
   "execution_count": null,
   "id": "7cd348532dbe34e6",
   "metadata": {
    "collapsed": false
   },
   "outputs": [],
   "source": [
    "RANK = 4\n",
    "\n",
    "\n",
    "class ExpDir:\n",
    "    def __init__(self, exp_dir: pathlib.Path):\n",
    "        self.exp_dir = exp_dir\n",
    "\n",
    "        # parse exp_dir name: <dataset>-<config>-<seq_len>\n",
    "        self.name = str(exp_dir.name)\n",
    "\n",
    "        # replace '--1' with '-0', special case for no window\n",
    "        self.name = self.name.replace(\"--1\", \"-0\")\n",
    "\n",
    "        self.dataset, self.config, self.seq_len, self.model, self.window = (\n",
    "            self.name.split(\"-\")\n",
    "        )\n",
    "        self.seq_len = int(self.seq_len)\n",
    "        self.rank_mem = self.read_mem()\n",
    "        self.throughput = self.read_throughput()\n",
    "        self.key = self._get_key()\n",
    "\n",
    "    def __repr__(self):\n",
    "        return f\"ExpDir({self.exp_dir.name}), seq_len={self.seq_len}\"\n",
    "\n",
    "    @staticmethod\n",
    "    def fmt_bytes2gb(res: str) -> float:\n",
    "        # bytes to GB\n",
    "        return round(float(res) / 1024 / 1024 / 1024, 3)\n",
    "\n",
    "    @staticmethod\n",
    "    def _read_file(res_file, formatter) -> Any:\n",
    "        with open(res_file, \"r\") as f:\n",
    "            res = f.read()\n",
    "        return formatter(res)\n",
    "\n",
    "    def read_mem(self) -> List[int]:\n",
    "        res_list = []\n",
    "        for rank in range(RANK):\n",
    "            res_file = self.exp_dir / f\"mem-{rank}.txt\"\n",
    "            # assert res_file.exists(), f'{res_file} not exists'\n",
    "            if not res_file.exists():\n",
    "                print(f\"[warning]: {res_file} not exists, return empty list\")\n",
    "                return []\n",
    "            res_list.append(self._read_file(res_file, self.fmt_bytes2gb))\n",
    "        return res_list\n",
    "\n",
    "    def read_throughput(self) -> float:\n",
    "        res_file = self.exp_dir / \"flops\"\n",
    "        # assert res_file.exists(), f'{res_file} not exists'\n",
    "        if not res_file.exists():\n",
    "            print(f\"[warning]: {res_file} not exists, return 0 as throughput\")\n",
    "            return 0\n",
    "        return self._read_file(res_file, float)\n",
    "\n",
    "    def _get_key(self) -> Tuple:\n",
    "        return self.dataset, self.config, self.seq_len, self.model"
   ]
  },
  {
   "cell_type": "code",
   "execution_count": null,
   "id": "f947f6f632d34b2e",
   "metadata": {
    "collapsed": false
   },
   "outputs": [],
   "source": [
    "class ExpGroup:\n",
    "    def __init__(self, exp_group_dir):\n",
    "        self.exp_list = list()\n",
    "        for exp_dir in exp_group_dir.iterdir():\n",
    "            if not exp_dir.is_dir():\n",
    "                continue\n",
    "            exp = ExpDir(exp_dir)\n",
    "            self.exp_list.append(exp)\n",
    "\n",
    "        self.df = self._get_df()\n",
    "\n",
    "    def _get_df(self) -> pd.DataFrame:\n",
    "        df = pd.DataFrame([exp.rank_mem + [exp.throughput] for exp in self.exp_list])\n",
    "        df.columns = [f\"rank-{i}\" for i in range(RANK)] + [\"throughput\"]\n",
    "        df[\"seq_len\"] = [exp.seq_len for exp in self.exp_list]\n",
    "        df[\"window\"] = [exp.window for exp in self.exp_list]\n",
    "        df[\"model\"] = [exp.model for exp in self.exp_list]\n",
    "        df[\"dataset\"] = [exp.dataset for exp in self.exp_list]\n",
    "        df[\"config\"] = [exp.config for exp in self.exp_list]\n",
    "\n",
    "        # convert window to int\n",
    "        df[\"window\"] = df[\"window\"].astype(int)\n",
    "        df[\"seq_len\"] = df[\"seq_len\"].astype(int)\n",
    "        df[\"throughput\"] = df[\"throughput\"].astype(float)\n",
    "        return df"
   ]
  },
  {
   "cell_type": "code",
   "execution_count": null,
   "id": "55b869c86192aaaa",
   "metadata": {
    "collapsed": false
   },
   "outputs": [],
   "source": [
    "exp_group = ExpGroup(pathlib.Path(\"../output/20231115_1\"))\n",
    "df = exp_group.df\n",
    "# group by seq_len and sort by window\n",
    "df = df.sort_values([\"seq_len\", \"window\"])\n",
    "# show only throughput, seq_len, window\n",
    "df[[\"throughput\", \"seq_len\", \"window\"]]"
   ]
  },
  {
   "cell_type": "code",
   "execution_count": null,
   "id": "d7b16185ead4fae",
   "metadata": {},
   "outputs": [],
   "source": [
    "# Plotting\n",
    "fig, ax = plt.subplots()\n",
    "\n",
    "# Group by 'seq_len' and plot lines for each group\n",
    "for seq_len, group in df.groupby(\"seq_len\"):\n",
    "    ax.plot(\n",
    "        group[\"window\"], group[\"throughput\"], label=f\"Seq Len {seq_len}\", marker=\"o\"\n",
    "    )\n",
    "\n",
    "# Set labels and title\n",
    "ax.set_xlabel(\"Window\")\n",
    "ax.set_ylabel(\"Throughput\")\n",
    "ax.set_title(\"Throughput vs. Window for Different Seq Lengths\")\n",
    "\n",
    "# Show legend\n",
    "ax.legend()\n",
    "ax.grid()\n",
    "\n",
    "# Show the plot\n",
    "plt.show()"
   ]
  }
 ],
 "metadata": {
  "kernelspec": {
   "display_name": "Python 3",
   "language": "python",
   "name": "python3"
  },
  "language_info": {
   "codemirror_mode": {
    "name": "ipython",
    "version": 3
   },
   "file_extension": ".py",
   "mimetype": "text/x-python",
   "name": "python",
   "nbconvert_exporter": "python",
   "pygments_lexer": "ipython3",
   "version": "3.8.16"
  }
 },
 "nbformat": 4,
 "nbformat_minor": 5
}
