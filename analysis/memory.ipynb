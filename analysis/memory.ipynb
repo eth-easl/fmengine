{
 "cells": [
  {
   "cell_type": "code",
   "execution_count": null,
   "id": "initial_id",
   "metadata": {
    "collapsed": true
   },
   "outputs": [],
   "source": [
    "import pathlib\n",
    "from typing import List\n",
    "\n",
    "import matplotlib.pyplot as plt"
   ]
  },
  {
   "cell_type": "code",
   "execution_count": null,
   "id": "f08e42f5cbe63de7",
   "metadata": {
    "collapsed": false
   },
   "outputs": [],
   "source": [
    "RANK = 4\n",
    "\n",
    "\n",
    "class ExpDir:\n",
    "    def __init__(self, exp_dir: pathlib.Path):\n",
    "        self.exp_dir = exp_dir\n",
    "\n",
    "        # parse exp_dir name: <dataset>-<config>-<seq_len>\n",
    "        self.dataset, self.config, self.seq_len = exp_dir.name.split(\"-\")\n",
    "        self.seq_len = int(self.seq_len)\n",
    "\n",
    "    def __repr__(self):\n",
    "        return f\"ExpDir({self.exp_dir.name}), seq_len={self.seq_len}\"\n",
    "\n",
    "    @staticmethod\n",
    "    def format_res(res: str) -> float:\n",
    "        # bytes to GB\n",
    "        return round(float(res) / 1024 / 1024 / 1024, 3)\n",
    "\n",
    "    def read_single_res(self, res_file: pathlib.Path) -> float:\n",
    "        with open(res_file, \"r\") as f:\n",
    "            res = f.read()\n",
    "        return self.format_res(res)\n",
    "\n",
    "    def read_res(self) -> List[int]:\n",
    "        res_list = []\n",
    "        for rank in range(RANK):\n",
    "            res_file = self.exp_dir / f\"mem-{rank}.txt\"\n",
    "            # assert res_file.exists(), f'{res_file} not exists'\n",
    "            if not res_file.exists():\n",
    "                print(f\"[warning]: {res_file} not exists, return empty list\")\n",
    "                return []\n",
    "            res_list.append(self.read_single_res(res_file))\n",
    "        return res_list"
   ]
  },
  {
   "cell_type": "code",
   "execution_count": null,
   "id": "2b29f17d7ba6e5e0",
   "metadata": {
    "collapsed": false
   },
   "outputs": [],
   "source": [
    "base_dir = pathlib.Path(\"../output\")\n",
    "group_dir_list = [base_dir / exp for exp in [\"20231107_5\"]]\n",
    "\n",
    "# print('group_dir_list:', list(group_dir_list))\n",
    "\n",
    "group_y = {}\n",
    "longest_x = []\n",
    "group_x = {}\n",
    "\n",
    "for group_dir in group_dir_list:\n",
    "    print(group_dir)\n",
    "    exp_dir_list = group_dir.glob(\"*\")\n",
    "    exp_dir_dict = {}\n",
    "    for exp_dir in exp_dir_list:\n",
    "        exp_dir = ExpDir(exp_dir)\n",
    "        exp_dir_dict[exp_dir.seq_len] = exp_dir\n",
    "\n",
    "    data_x = sorted(exp_dir_dict.keys())\n",
    "    longest_x = data_x if len(data_x) > len(longest_x) else longest_x\n",
    "    group_x[group_dir.name] = []\n",
    "\n",
    "    data_y = [[] for _ in range(RANK)]\n",
    "    for seq_len in data_x:\n",
    "        exp_dir = exp_dir_dict[seq_len]\n",
    "        res_list = exp_dir.read_res()\n",
    "        for rank, res in enumerate(res_list):\n",
    "            data_y[rank].append(res)\n",
    "        if res_list:\n",
    "            group_x[group_dir.name].append(seq_len)\n",
    "\n",
    "    group_y[group_dir.name] = data_y"
   ]
  },
  {
   "cell_type": "code",
   "execution_count": null,
   "id": "cdd4c57f29970c32",
   "metadata": {
    "collapsed": false
   },
   "outputs": [],
   "source": [
    "from mem_model import MemModel\n",
    "\n",
    "data_ground_truth = []\n",
    "for x in longest_x:\n",
    "    m = MemModel(s=x, L=8)\n",
    "    data_ground_truth.append(m.bytes_to_gb(m.total))\n",
    "data_ground_truth"
   ]
  },
  {
   "cell_type": "code",
   "execution_count": null,
   "id": "54de52a791413c0a",
   "metadata": {},
   "outputs": [],
   "source": [
    "# load label\n",
    "label_file = base_dir / \"experiments.md\"\n",
    "label_dict = {}\n",
    "with open(label_file, \"r\") as f:\n",
    "    lines = f.readlines()\n",
    "    for line in lines:\n",
    "        exp_name = line.split(\":\")[0].strip()\n",
    "        label_dict[exp_name] = line.strip()\n",
    "print(label_dict)"
   ]
  },
  {
   "cell_type": "code",
   "execution_count": null,
   "id": "a984061a745b145b",
   "metadata": {
    "collapsed": false
   },
   "outputs": [],
   "source": [
    "# Create a figure with subplots\n",
    "fig, axs = plt.subplots(RANK // 2, 2, figsize=(12, 12))\n",
    "\n",
    "# Reshape axs to a 1D array for easier indexing\n",
    "axs = axs.ravel()\n",
    "\n",
    "# Loop through each rank\n",
    "for rank in range(RANK):\n",
    "    ax = axs[rank]\n",
    "\n",
    "    # Plot the data\n",
    "    for exp_name in sorted(group_y.keys()):\n",
    "        data_y_single = group_y[exp_name]\n",
    "        ax.plot(\n",
    "            group_x[exp_name], data_y_single[rank], \"x-\", label=label_dict[exp_name]\n",
    "        )\n",
    "    # ax.plot(data_x, data_ground_truth, 'o-', color='grey', alpha=0.5, label='theoretical')\n",
    "    ax.grid()\n",
    "    ax.set_xlabel(\"seq_len\")\n",
    "    ax.set_ylabel(\"mem (GB)\")\n",
    "    ax.set_title(f\"rank {rank}\")\n",
    "    ax.legend()\n",
    "\n",
    "# Adjust the layout and display the plot\n",
    "plt.tight_layout()\n",
    "plt.show()"
   ]
  }
 ],
 "metadata": {
  "kernelspec": {
   "display_name": "Python 3",
   "language": "python",
   "name": "python3"
  },
  "language_info": {
   "codemirror_mode": {
    "name": "ipython",
    "version": 3
   },
   "file_extension": ".py",
   "mimetype": "text/x-python",
   "name": "python",
   "nbconvert_exporter": "python",
   "pygments_lexer": "ipython3",
   "version": "3.8.16"
  }
 },
 "nbformat": 4,
 "nbformat_minor": 5
}
