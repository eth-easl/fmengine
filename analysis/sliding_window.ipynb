{
 "cells": [
  {
   "cell_type": "code",
   "execution_count": null,
   "id": "initial_id",
   "metadata": {
    "collapsed": true
   },
   "outputs": [],
   "source": [
    "import pathlib\n",
    "from typing import List, Dict, Any, Tuple"
   ]
  },
  {
   "cell_type": "code",
   "execution_count": null,
   "outputs": [],
   "source": [
    "RANK = 4\n",
    "\n",
    "\n",
    "class ExpDir:\n",
    "    def __init__(self, exp_dir: pathlib.Path):\n",
    "        self.exp_dir = exp_dir\n",
    "\n",
    "        # parse exp_dir name: <dataset>-<config>-<seq_len>\n",
    "        self.name = str(exp_dir.name)\n",
    "\n",
    "        # replace '--1' with '-0', special case for no window\n",
    "        self.name = self.name.replace(\"--1\", \"-0\")\n",
    "\n",
    "        self.dataset, self.config, self.seq_len, self.model, self.window = (\n",
    "            self.name.split(\"-\")\n",
    "        )\n",
    "        self.seq_len = int(self.seq_len)\n",
    "        self.res = self.read_res()\n",
    "        self.key = self._get_key()\n",
    "\n",
    "    def __repr__(self):\n",
    "        return f\"ExpDir({self.exp_dir.name}), seq_len={self.seq_len}\"\n",
    "\n",
    "    @staticmethod\n",
    "    def format_res(res: str) -> float:\n",
    "        # bytes to GB\n",
    "        # return round(float(res) / 1024 / 1024 / 1024, 3)\n",
    "        return float(res)\n",
    "\n",
    "    def read_single_res(self, res_file: pathlib.Path) -> float:\n",
    "        with open(res_file, \"r\") as f:\n",
    "            res = f.read()\n",
    "        return self.format_res(res)\n",
    "\n",
    "    def read_res(self) -> List[int]:\n",
    "        res_list = []\n",
    "        for rank in range(RANK):\n",
    "            res_file = self.exp_dir / f\"mem-{rank}.txt\"\n",
    "            # assert res_file.exists(), f'{res_file} not exists'\n",
    "            if not res_file.exists():\n",
    "                print(f\"[warning]: {res_file} not exists, return empty list\")\n",
    "                return []\n",
    "            res_list.append(self.read_single_res(res_file))\n",
    "        return res_list\n",
    "\n",
    "    def _get_key(self) -> Tuple:\n",
    "        return self.dataset, self.config, self.seq_len, self.model"
   ],
   "metadata": {
    "collapsed": false
   },
   "id": "65657e951e849002"
  },
  {
   "cell_type": "code",
   "execution_count": null,
   "outputs": [],
   "source": [
    "INTERESTED_RANK = 0\n",
    "\n",
    "base_dir = pathlib.Path(\"../output\")\n",
    "group_dir_names = [\"20231112_5\", \"20231112_4\"]\n",
    "group_dir_exp_list = []\n",
    "for group_dir_name in group_dir_names:\n",
    "    for edir in (base_dir / group_dir_name).iterdir():\n",
    "        if edir.is_dir():\n",
    "            group_dir_exp_list.append(ExpDir(edir))\n",
    "counter = {}  # key -> set()\n",
    "for exp in group_dir_exp_list:\n",
    "    if exp.key not in counter:\n",
    "        counter[exp.key] = set()\n",
    "    counter[exp.key].add(exp.res[INTERESTED_RANK])\n",
    "\n",
    "for key, res_set in counter.items():\n",
    "    print(key, res_set)"
   ],
   "metadata": {
    "collapsed": false
   },
   "id": "5355c70fa32715a6"
  }
 ],
 "metadata": {
  "kernelspec": {
   "display_name": "Python 3",
   "language": "python",
   "name": "python3"
  },
  "language_info": {
   "codemirror_mode": {
    "name": "ipython",
    "version": 2
   },
   "file_extension": ".py",
   "mimetype": "text/x-python",
   "name": "python",
   "nbconvert_exporter": "python",
   "pygments_lexer": "ipython2",
   "version": "2.7.6"
  }
 },
 "nbformat": 4,
 "nbformat_minor": 5
}
